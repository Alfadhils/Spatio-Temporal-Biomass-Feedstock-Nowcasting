{
 "cells": [
  {
   "cell_type": "markdown",
   "metadata": {},
   "source": [
    "# Forecast Phase 1"
   ]
  },
  {
   "cell_type": "code",
   "execution_count": 1,
   "metadata": {},
   "outputs": [],
   "source": [
    "import pandas as pd\n",
    "import numpy as np\n",
    "import seaborn as sns\n",
    "import matplotlib.pyplot as plt\n",
    "import os\n",
    "\n",
    "from minisom import MiniSom\n",
    "from collections import Counter\n",
    "from sklearn.metrics import silhouette_score\n",
    "\n",
    "from data_prep import data_prep\n",
    "import get_model\n",
    "import utils\n",
    "\n",
    "seed = 42\n",
    "np.random.seed(seed)"
   ]
  },
  {
   "cell_type": "markdown",
   "metadata": {},
   "source": [
    "## Prep Data"
   ]
  },
  {
   "cell_type": "code",
   "execution_count": 2,
   "metadata": {},
   "outputs": [],
   "source": [
    "# Read datasets\n",
    "df_bio = pd.read_csv('dataset\\Biomass_History.csv')\n",
    "df_dist = pd.read_csv('dataset\\Distance_Matrix.csv')\n",
    "submission = pd.read_csv('dataset\\sample_submission.csv')\n",
    "df_ext = pd.read_excel('dataset\\External_Data.xlsx')\n",
    "df_real = pd.read_csv('dataset\\Biomass_Private.csv')\n",
    "\n",
    "data_loader = data_prep()\n",
    "data_loader.create_images(width=80, height=64)\n",
    "selected_pix = data_loader.selected_pix\n",
    "images = data_loader.get_images()"
   ]
  },
  {
   "cell_type": "code",
   "execution_count": 3,
   "metadata": {},
   "outputs": [],
   "source": [
    "# Expand dfbio dataset\n",
    "df_bio_long = pd.melt(df_bio, id_vars=['Index','Latitude','Longitude'], var_name='Year', value_name='Bio')\n",
    "df_bio_long['Year'] = df_bio_long['Year'].astype(int)\n",
    "df_bio_long['Bio'] = df_bio_long['Bio'].astype(float)\n",
    "\n",
    "years = [str(year) for year in range(2010,2017+1)]\n",
    "df_bio['mean_bio'] = df_bio.apply(lambda x: np.mean(x[years]),axis=1)"
   ]
  },
  {
   "cell_type": "code",
   "execution_count": 4,
   "metadata": {},
   "outputs": [],
   "source": [
    "# Aggregate external dataset\n",
    "df_ext_annual = df_ext.groupby('Year').agg({\n",
    "    \"Avg_Temp\" : \"mean\",\n",
    "    \"Min_Temp\" : \"min\",\n",
    "    \"Max_Temp\" : \"max\",\n",
    "    \"Rainfall\" : \"sum\",\n",
    "    \"Rain_Days\" : \"sum\",\n",
    "    \"Cloud\" : \"mean\",\n",
    "    \"Humidity\" : \"mean\",\n",
    "    \"Sun_Hours\" : \"sum\",\n",
    "    \"Sun_Days\" : \"sum\",\n",
    "    \"UV_Index\" : \"mean\",\n",
    "    \"Pressure\": \"mean\",\n",
    "    \"Avg_Gust\": \"mean\",\n",
    "    \"Max_Wind\": \"max\",\n",
    "    \"Avg_Wind\": \"mean\",\n",
    "}).reset_index()"
   ]
  },
  {
   "cell_type": "code",
   "execution_count": 5,
   "metadata": {},
   "outputs": [],
   "source": [
    "df_train = df_bio_long.copy()\n",
    "df_2018 = df_bio_long.loc[df_bio_long['Year'] == 2010].drop(columns=['Bio'])\n",
    "df_2018['Year'] = 2018\n",
    "df_2019 = df_bio_long.loc[df_bio_long['Year'] == 2010].drop(columns=['Bio'])\n",
    "df_2019['Year'] = 2019"
   ]
  },
  {
   "cell_type": "code",
   "execution_count": 6,
   "metadata": {},
   "outputs": [],
   "source": [
    "class SOMClassifier:\n",
    "    def __init__(self, som_x=5, som_y=5, learning_rate=0.05):\n",
    "        self.som_x = som_x\n",
    "        self.som_y = som_y\n",
    "        self.learning_rate = learning_rate\n",
    "\n",
    "    def train(self, dfts_norm):\n",
    "        series_data = dfts_norm.drop(columns=['Index']).values\n",
    "\n",
    "        self.som = MiniSom(self.som_x, self.som_y, input_len=series_data.shape[1], learning_rate=self.learning_rate, random_seed=42)\n",
    "        self.som.random_weights_init(series_data)\n",
    "\n",
    "        num_epochs = 50000\n",
    "        self.som.train_random(series_data, num_epochs)\n",
    "\n",
    "        self.winners = self.som.win_map(series_data)\n",
    "\n",
    "        cluster_indices = list(self.winners.keys())\n",
    "        self.winners_indexed = {f\"Cluster {i+1}\": self.winners[cluster_indices[i]] for i in range(len(cluster_indices))}\n",
    "\n",
    "        self.list_of_series = np.array([series for series_list in self.winners_indexed.values() for series in series_list])\n",
    "\n",
    "        self.cluster_labels = []\n",
    "        for cluster, series_list in self.winners_indexed.items():\n",
    "            self.cluster_labels.extend([cluster] * len(series_list))\n",
    "\n",
    "        self.cluster_labels = np.array(self.cluster_labels)\n",
    "\n",
    "    def get_silhouette_score(self):\n",
    "        silhouette_avg = silhouette_score(self.list_of_series, self.cluster_labels)\n",
    "        return silhouette_avg\n",
    "    \n",
    "    def plot_cluster(self):\n",
    "        fig, axs = plt.subplots(self.som_x,self.som_y,figsize=(min(self.som_x,self.som_y)*5,max(self.som_x,self.som_y)*5))\n",
    "        for x in range(self.som_x):\n",
    "            for y in range(self.som_y):\n",
    "                cluster = (x,y)\n",
    "                if cluster in self.winners.keys():\n",
    "                    for series in self.winners[cluster]:\n",
    "                        axs[cluster].plot(series,c=\"gray\",alpha=0.5) \n",
    "                    axs[cluster].plot(dtw_barycenter_averaging(np.vstack(self.winners[cluster])),c=\"red\")\n",
    "                cluster_number = x*self.som_y+y+1\n",
    "                axs[cluster].set_title(f\"Cluster {cluster_number}\")\n",
    "            \n",
    "        plt.tight_layout()\n",
    "        plt.show()\n",
    "\n",
    "    def get_df_label(self):\n",
    "        columns = ['2010','2011','2012','2013','2014','2015','2016','2017','Label']\n",
    "        dflabel = pd.DataFrame(columns=columns)\n",
    "\n",
    "        rows = []\n",
    "        for cluster, series_list in self.winners_indexed.items():\n",
    "            for series in series_list:\n",
    "                new_row = {'2010': series[0], '2011': series[1], '2012': series[2],\n",
    "                        '2013': series[3], '2014': series[4], '2015': series[5],\n",
    "                        '2016': series[6], '2017': series[7], 'Label': cluster}\n",
    "                rows.append(new_row)\n",
    "\n",
    "        dflabel = pd.concat([dflabel, pd.DataFrame(rows)], ignore_index=True)\n",
    "        dflabel = df_ts_norm.merge(dflabel, on=list(year_cols), how='left').drop(columns=list(year_cols))\n",
    "        return dflabel\n",
    "    \n",
    "    def plot_distribution(self):\n",
    "        df = self.get_df_label()\n",
    "        df['Label'].value_counts().plot(kind='bar', figsize=(15,4), title='Distribution')\n",
    "    \n",
    "    "
   ]
  },
  {
   "cell_type": "code",
   "execution_count": 7,
   "metadata": {},
   "outputs": [
    {
     "name": "stdout",
     "output_type": "stream",
     "text": [
      "Silhouette Score: 0.20505389281858416\n"
     ]
    }
   ],
   "source": [
    "# Create dataframe for timeseries clustering\n",
    "df_ts = df_bio.drop(columns=['Latitude','Longitude','mean_bio'])\n",
    "year_cols = df_ts.columns[1:]\n",
    "\n",
    "# Create a normalized dataframe and expand\n",
    "df_ts_norm = df_ts.copy()\n",
    "df_ts_norm[year_cols] = df_ts_norm.apply(lambda row: (row[year_cols] - row[year_cols].min())/row[year_cols].max(), axis=1)\n",
    "df_ts_long = pd.melt(df_ts_norm, id_vars=['Index'], var_name='Year', value_name='Bio')\n",
    "\n",
    "som_x = 3\n",
    "som_y = 3\n",
    "som_classifier = SOMClassifier(som_x=som_x, som_y=som_y)\n",
    "\n",
    "som_classifier.train(df_ts_norm)\n",
    "\n",
    "som_silhouette_score = som_classifier.get_silhouette_score()\n",
    "print(f'Silhouette Score: {som_silhouette_score}')\n",
    "\n",
    "dfmean = df_bio_long.groupby(['Index','Latitude','Longitude'])['Bio'].mean().reset_index()\n",
    "dflabel = som_classifier.get_df_label()"
   ]
  },
  {
   "cell_type": "markdown",
   "metadata": {},
   "source": [
    "## Feature Engineering Functions"
   ]
  },
  {
   "cell_type": "code",
   "execution_count": 8,
   "metadata": {},
   "outputs": [],
   "source": [
    "def add_temporal(dftrain, df2018, df2019, past_count):\n",
    "    for i in range(1,past_count+1):\n",
    "        df_lag=df_bio_long.copy()[['Index','Year','Bio']]\n",
    "        df_lag['Year'] = df_lag['Year']+i\n",
    "        dftrain = dftrain.merge(df_lag, on=['Index', 'Year'], how='left',suffixes=('',f'_plus{i}'))\n",
    "        df2018 = df2018.merge(df_lag, on=['Index', 'Year'], how='left',suffixes=('',f'_plus{i}'))\n",
    "        df2019 = df2019.merge(df_lag, on=['Index', 'Year'], how='left',suffixes=('',f'_plus{i}'))\n",
    "    \n",
    "    df2018.rename(columns={'Bio': 'Bio_plus1'}, inplace=True)\n",
    "    df2019.rename(columns={'Bio': 'Bio_plus1'}, inplace=True)\n",
    "    return dftrain,df2018,df2019\n",
    "\n",
    "def add_spatial(df_train, df_2018, df_2019, n_closest):\n",
    "    dftrain, df2018, df2019 = df_train.copy(), df_2018.copy(), df_2019.copy()\n",
    "    df_closest = pd.DataFrame(df_bio['Index'])\n",
    "    df_closest['closest'] = df_bio['Index'].apply(lambda x: df_dist[str(x)].nsmallest(n_closest).index.tolist())\n",
    "\n",
    "    for i in range(n_closest):\n",
    "        dftrain['closest_'+str(i)] = dftrain.apply(lambda x:\n",
    "                                                        np.nan if str(int(x['Year'])-1) not in years else\n",
    "                                                        df_bio.loc[df_closest.loc[int(x['Index'])]['closest'][i],str(int(x['Year'])-1)],\n",
    "                                                        axis=1)\n",
    "        \n",
    "        df2018['closest_'+str(i)] = df2018.apply(lambda x:\n",
    "                                                        np.nan if str(int(x['Year'])-1) not in years else\n",
    "                                                        df_bio.loc[df_closest.loc[int(x['Index'])]['closest'][i],str(int(x['Year'])-1)],\n",
    "                                                        axis=1)\n",
    "        \n",
    "        df2019['closest_'+str(i)] = df2019.apply(lambda x:\n",
    "                                                        np.nan if str(int(x['Year'])-1) not in years else\n",
    "                                                        df_bio.loc[df_closest.loc[int(x['Index'])]['closest'][i],str(int(x['Year'])-1)],\n",
    "                                                        axis=1)\n",
    "    \n",
    "    return dftrain, df2018, df2019\n",
    "\n",
    "def add_label(dftrain, df2018, df2019, df_label, OHE=False): \n",
    "    dftrain = pd.merge(dftrain, df_label)\n",
    "    df2018 = pd.merge(df2018, df_label)\n",
    "    df2019 = pd.merge(df2019, df_label)\n",
    "    if OHE :\n",
    "        return pd.get_dummies(dftrain, columns=['Label']),pd.get_dummies(df2018, columns=['Label']),pd.get_dummies(df2019, columns=['Label'])\n",
    "    else :\n",
    "        return dftrain, df2018, df2019\n",
    "\n",
    "def add_ext(dftrain, df2018, df2019, df_ext):\n",
    "    return pd.merge(dftrain, df_ext, on='Year', how='left'),pd.merge(df2018, df_ext, on='Year', how='left'),pd.merge(df2019, df_ext, on='Year', how='left')"
   ]
  },
  {
   "cell_type": "code",
   "execution_count": 9,
   "metadata": {},
   "outputs": [],
   "source": [
    "df_train_regres, df_2018_regres, df_2019_regres = add_ext(df_train, df_2018, df_2019, df_ext_annual)\n",
    "\n",
    "df_st_train_whole, df_st_2018_whole, df_st_2019_whole = add_spatial(df_train, df_2018, df_2019, 5)\n",
    "df_st_train_whole, df_st_2018_whole, df_st_2019_whole = add_temporal(df_st_train_whole, df_st_2018_whole, df_st_2019_whole, 3)\n",
    "df_stc_train_whole, df_stc_2018_whole, df_stc_2019_whole = add_label(df_st_train_whole, df_st_2018_whole, df_st_2019_whole, dflabel, OHE=True)\n",
    "df_ste_train_whole, df_ste_2018_whole, df_ste_2019_whole = add_ext(df_st_train_whole, df_st_2018_whole, df_st_2019_whole, df_ext_annual)\n",
    "df_stce_train_whole, df_stce_2018_whole, df_stce_2019_whole = add_ext(df_stc_train_whole, df_stc_2018_whole, df_stc_2019_whole, df_ext_annual)"
   ]
  },
  {
   "cell_type": "markdown",
   "metadata": {},
   "source": [
    "## Predictive Models"
   ]
  },
  {
   "cell_type": "code",
   "execution_count": 10,
   "metadata": {},
   "outputs": [],
   "source": [
    "# Import machine learning frameworks\n",
    "from sklearn.model_selection import TimeSeriesSplit\n",
    "from sklearn.model_selection import train_test_split\n",
    "from sklearn.metrics import mean_squared_error\n",
    "from sklearn.metrics import mean_absolute_error\n",
    "from xgboost import XGBRegressor\n",
    "from lightgbm import LGBMRegressor\n",
    "from sklearn.ensemble import HistGradientBoostingRegressor, RandomForestRegressor, GradientBoostingRegressor\n",
    "from sklearn.neural_network import MLPRegressor\n",
    "from sklearn.linear_model import LinearRegression, Ridge, Lasso, ElasticNet, SGDRegressor\n",
    "from sklearn.svm import SVR\n",
    "from sklearn.pipeline import Pipeline\n",
    "from sklearn.preprocessing import StandardScaler, RobustScaler, MinMaxScaler\n",
    "from sklearn.metrics import mean_absolute_error\n",
    "import tensorflow as tf"
   ]
  },
  {
   "cell_type": "markdown",
   "metadata": {},
   "source": [
    "### Classical ML"
   ]
  },
  {
   "cell_type": "code",
   "execution_count": null,
   "metadata": {},
   "outputs": [],
   "source": [
    "def create_pipeline(model, scaler):\n",
    "    pipeline = Pipeline([\n",
    "        ('scaler', scaler),  # Standardize the features\n",
    "        ('model', model)  # Your chosen model\n",
    "    ])\n",
    "    return pipeline\n",
    "\n",
    "def lr_schedule(epoch):\n",
    "    if epoch < 100:\n",
    "        return 0.001\n",
    "    elif epoch < 200:\n",
    "        return 0.0005\n",
    "    elif epoch < 300:\n",
    "        return 0.0001\n",
    "    elif epoch < 400:\n",
    "        return 0.00005\n",
    "    else :\n",
    "        return 0.00001\n",
    "\n",
    "def eval_whole(model, splits, dftrain):\n",
    "    train_err = []\n",
    "    valid_err = []\n",
    "\n",
    "    X = dftrain.copy().drop(columns=['Index','closest_0'])\n",
    "    y = X.pop('Bio')\n",
    "\n",
    "    tscv = TimeSeriesSplit(n_splits=splits, test_size=2418)\n",
    "\n",
    "    for train_index, valid_index in tscv.split(X):\n",
    "        valid_year = X.iloc[valid_index]['Year'].unique()[0]\n",
    "        # print(f\"Testing on year : {valid_year}\")\n",
    "\n",
    "        x_train, y_train = X.iloc[train_index], y.iloc[train_index]\n",
    "        x_valid, y_valid = X.iloc[valid_index], y.iloc[valid_index]\n",
    "\n",
    "        pipeline = create_pipeline(model, MinMaxScaler())\n",
    "\n",
    "        pipeline.fit(x_train, y_train)\n",
    "\n",
    "        train_pred = pipeline.predict(x_train)\n",
    "        valid_pred = pipeline.predict(x_valid)\n",
    "\n",
    "        train_score = mean_absolute_error(y_train, train_pred)\n",
    "        valid_score = mean_absolute_error(y_valid, valid_pred)\n",
    "\n",
    "        train_err.append(train_score)\n",
    "        valid_err.append(valid_score)\n",
    "\n",
    "    print(f'Mean Train Score : {np.mean(train_err):.5f}, Mean Valid Score : {np.mean(valid_err):.5f}')\n",
    "\n",
    "    return train_err, valid_err, pipeline\n",
    "\n",
    "def eval_linear(model, dftrain):\n",
    "    mae_list = []\n",
    "    for i in dftrain['Index'].unique():\n",
    "        X = dftrain[dftrain['Index']==i].copy().drop(['Index','Latitude','Longitude'],axis=1)\n",
    "        y = X.pop('Bio')\n",
    "\n",
    "        X_train, X_test, y_train, y_test = train_test_split(X, y, test_size=0.25, random_state=42)\n",
    "        pipeline = create_pipeline(model, MinMaxScaler())\n",
    "        pipeline.fit(X_train, y_train)\n",
    "        y_pred = pipeline.predict(X_test)\n",
    "        mae = mean_absolute_error(y_test, y_pred)\n",
    "        mae_list.append(mae)\n",
    "\n",
    "    print(f\"Mean Absolute Error (MAE): {np.mean(mae_list)}\")\n",
    "    return mae_list\n",
    "    \n",
    "def eval_nn(model, dftrain):\n",
    "    X = dftrain.copy().drop(['Index','closest_0','Latitude', 'Longitude'],axis=1)\n",
    "    X_train = X[X['Year']<2017]\n",
    "    y_train = X_train.pop('Bio')\n",
    "    X_test = X[X['Year']==2017]\n",
    "    y_test = X_test.pop('Bio')\n",
    "    scaler = MinMaxScaler()\n",
    "    X_train_scaled = scaler.fit_transform(X_train)\n",
    "    X_test_scaled = scaler.transform(X_test)\n",
    "    X_train_scaled = X_train_scaled[:,1:]\n",
    "    X_test_scaled = X_test_scaled[:,1:]\n",
    "\n",
    "    lr_scheduler = tf.keras.callbacks.LearningRateScheduler(lr_schedule)\n",
    "    early_stopping = tf.keras.callbacks.EarlyStopping(monitor='val_loss', patience=150, verbose=1, restore_best_weights=True)\n",
    "    \n",
    "    _ = model.fit(X_train_scaled, y_train, epochs=250, batch_size=512, validation_data=(X_test_scaled, y_test))\n",
    "\n",
    "    loss = model.evaluate(X_test_scaled, y_test)\n",
    "    print(f'Mean Absolute Error: {loss:.4f}')\n",
    "\n",
    "    return loss,_"
   ]
  },
  {
   "cell_type": "code",
   "execution_count": 13,
   "metadata": {},
   "outputs": [],
   "source": [
    "error_dict = {}"
   ]
  },
  {
   "cell_type": "code",
   "execution_count": null,
   "metadata": {},
   "outputs": [],
   "source": [
    "df_st_train_whole.dropna(inplace=True)\n",
    "df_stc_train_whole.dropna(inplace=True)\n",
    "df_ste_train_whole.dropna(inplace=True)\n",
    "df_stce_train_whole.dropna(inplace=True)\n",
    "\n",
    "datasets = {\n",
    "    # 'ST' : df_st_train_whole,\n",
    "    # 'STC' : df_stc_train_whole,\n",
    "    # 'STE' : df_ste_train_whole,\n",
    "    'STCE' : df_stce_train_whole\n",
    "}\n",
    "\n",
    "models = {\n",
    "    'RF' : RandomForestRegressor(random_state=seed, verbose=0),\n",
    "    'LGBM' : LGBMRegressor(random_state=seed, verbosity=-1)\n",
    "}\n",
    "\n",
    "models_linear = {\n",
    "    # 'LinReg' : LinearRegression(),\n",
    "    # 'Ridge' : Ridge(random_state=seed),\n",
    "    'Enet' : ElasticNet(random_state=seed)\n",
    "}"
   ]
  },
  {
   "cell_type": "code",
   "execution_count": null,
   "metadata": {},
   "outputs": [],
   "source": [
    "for model in models.keys():\n",
    "    for data in datasets.keys():\n",
    "        print(f'Model {model}, Data {data}')\n",
    "        t_err, v_err, train_model = eval_whole(models[model], 4, datasets[data])\n",
    "        error_dict[model+'_'+data] = np.mean(v_err)"
   ]
  },
  {
   "cell_type": "code",
   "execution_count": null,
   "metadata": {},
   "outputs": [],
   "source": [
    "for model in models_linear.keys() :\n",
    "    print(f'Model {model}')\n",
    "    err = eval_linear(models_linear[model], df_train_regres)\n",
    "    error_dict[model] = np.mean(err)"
   ]
  },
  {
   "cell_type": "code",
   "execution_count": null,
   "metadata": {},
   "outputs": [],
   "source": [
    "model = tf.keras.models.Sequential([\n",
    "        tf.keras.layers.Dense(64, activation='relu'), \n",
    "        tf.keras.layers.Dropout(0.2),\n",
    "        tf.keras.layers.Dense(48, activation='relu'),\n",
    "        tf.keras.layers.Dropout(0.2),\n",
    "        tf.keras.layers.Dense(32, activation='relu'),\n",
    "        tf.keras.layers.Dense(1)  \n",
    "        ])\n",
    "\n",
    "model.compile(optimizer=tf.keras.optimizers.Adam(learning_rate=0.0005), loss='mean_absolute_error')\n",
    "\n",
    "loss, history = eval_nn(model, df_st_train_whole)"
   ]
  },
  {
   "cell_type": "code",
   "execution_count": null,
   "metadata": {},
   "outputs": [],
   "source": [
    "error_dict['ANN'] = loss\n",
    "\n",
    "# Access the training and validation loss from the history\n",
    "train_loss = history.history['loss']\n",
    "val_loss = history.history['val_loss']\n",
    "\n",
    "# Create a range of epochs for x-axis\n",
    "epochs = range(1, len(train_loss) + 1)\n",
    "offset = 10\n",
    "\n",
    "# Plotting\n",
    "plt.plot(epochs[offset:], train_loss[offset:], 'b', label='Training loss')\n",
    "plt.plot(epochs[offset:], val_loss[offset:], 'r', label='Validation loss')\n",
    "plt.title('Training and Validation Loss')\n",
    "plt.xlabel('Epochs')\n",
    "plt.ylabel('Loss')\n",
    "plt.legend()\n",
    "\n",
    "# Show plot\n",
    "plt.show()"
   ]
  },
  {
   "cell_type": "code",
   "execution_count": 11,
   "metadata": {},
   "outputs": [],
   "source": [
    "image_data = data_loader.dfbio"
   ]
  },
  {
   "cell_type": "code",
   "execution_count": 14,
   "metadata": {},
   "outputs": [
    {
     "name": "stdout",
     "output_type": "stream",
     "text": [
      "1/1 [==============================] - 0s 291ms/step - loss: 29.4792\n"
     ]
    }
   ],
   "source": [
    "unet = get_model.Unet(image_data, images)\n",
    "\n",
    "_, _, X_val_unet, y_val_unet = unet.prepare_data(fit=False)\n",
    "model_unet = unet.get_model()\n",
    "model_unet.compile(optimizer=tf.keras.optimizers.Adam(learning_rate=0.01), loss='mae')\n",
    "\n",
    "model_unet.load_weights('saved_models\\\\Unet_250_29.472_val.h5')\n",
    "\n",
    "error_dict['Unet'] = model_unet.evaluate(X_val_unet, y_val_unet)"
   ]
  },
  {
   "cell_type": "code",
   "execution_count": 15,
   "metadata": {},
   "outputs": [
    {
     "name": "stdout",
     "output_type": "stream",
     "text": [
      "1/1 [==============================] - 0s 417ms/step - loss: 35.0586\n"
     ]
    }
   ],
   "source": [
    "lstm_3 = get_model.LSTM_3(image_data)\n",
    "\n",
    "_, _, X_val_lstm, y_val_lstm = lstm_3.prepare_data(fit=False)\n",
    "model_lstm = lstm_3.get_model()\n",
    "model_lstm.compile(optimizer=tf.keras.optimizers.Adam(learning_rate=0.001), loss='mae')\n",
    "\n",
    "model_lstm.load_weights('saved_models\\\\LSTM_3_300_35.187_val.h5')\n",
    "\n",
    "error_dict['LSTM'] = model_lstm.evaluate(X_val_lstm, y_val_lstm)"
   ]
  },
  {
   "cell_type": "code",
   "execution_count": null,
   "metadata": {},
   "outputs": [],
   "source": [
    "clstm_3 = get_model.ConvLSTM_3(image_data, images)\n",
    "\n",
    "_, _, X_val_clstm, y_val_clstm = clstm_3.prepare_data(fit=False)\n",
    "model_clstm = clstm_3.get_model()\n",
    "model_clstm.compile(optimizer=tf.keras.optimizers.Adam(learning_rate=0.01), loss='mae')\n",
    "\n",
    "model_clstm.load_weights('saved_models\\\\ConvLSTM_M_300_27.30_val.h5')\n",
    "\n",
    "error_dict['ConvLSTM'] = model_clstm.evaluate(X_val_clstm, y_val_clstm)"
   ]
  },
  {
   "cell_type": "code",
   "execution_count": null,
   "metadata": {},
   "outputs": [],
   "source": [
    "X_val_clstm.shape, y_val_clstm.shape"
   ]
  },
  {
   "cell_type": "code",
   "execution_count": null,
   "metadata": {},
   "outputs": [],
   "source": [
    "sorted_error_dict = dict(sorted(error_dict.items(), key=lambda item: item[1], reverse=True))\n",
    "\n",
    "sns.barplot(x=list(sorted_error_dict.keys()), y=list(sorted_error_dict.values()), palette='deep')\n",
    "\n",
    "plt.title('Model Comparison')\n",
    "plt.ylabel('MAE')\n",
    "\n",
    "plt.xticks(rotation=45)\n",
    "plt.show()"
   ]
  },
  {
   "cell_type": "code",
   "execution_count": null,
   "metadata": {},
   "outputs": [],
   "source": [
    "def pred_linear(df_train, df_2018, df_2019, model):\n",
    "    pred_dict = {'2018': [], '2019': []}  # Initialize a dictionary to store predictions\n",
    "\n",
    "    # Loop through unique 'Index' values in df_train\n",
    "    for i in df_train['Index'].unique():\n",
    "        # Extract features and target for training\n",
    "        X = df_train[df_train['Index'] == i].drop(['Index','Latitude','Longitude'],axis=1)\n",
    "        y = X.pop('Bio')\n",
    "\n",
    "        # Extract features for testing in 2018 and 2019\n",
    "        X_2018 = df_2018[df_2018['Index'] == i].drop(['Index','Latitude','Longitude'],axis=1)\n",
    "        X_2019 = df_2019[df_2019['Index'] == i].drop(['Index','Latitude','Longitude'],axis=1)\n",
    "\n",
    "        # Create and fit the pipeline\n",
    "        pipeline = create_pipeline(model, MinMaxScaler())\n",
    "        _ = pipeline.fit(X, y)\n",
    "\n",
    "        # Make predictions for 2018 and 2019\n",
    "        pred_2018 = pipeline.predict(X_2018)\n",
    "        pred_2019 = pipeline.predict(X_2019)\n",
    "\n",
    "        # Append predictions to the dictionary\n",
    "        pred_dict['2018'].append(int(pred_2018))\n",
    "        pred_dict['2019'].append(int(pred_2019))\n",
    "\n",
    "    return pred_dict"
   ]
  },
  {
   "cell_type": "code",
   "execution_count": null,
   "metadata": {},
   "outputs": [],
   "source": [
    "model = ElasticNet()\n",
    "predictions = pred_linear(df_train_regres, df_2018_regres, df_2019_regres, model)"
   ]
  },
  {
   "cell_type": "code",
   "execution_count": 16,
   "metadata": {},
   "outputs": [
    {
     "name": "stdout",
     "output_type": "stream",
     "text": [
      "1/1 [==============================] - 0s 450ms/step\n",
      "1/1 [==============================] - 0s 32ms/step\n"
     ]
    },
    {
     "data": {
      "text/plain": [
       "<matplotlib.image.AxesImage at 0x1d8b4b93810>"
      ]
     },
     "execution_count": 16,
     "metadata": {},
     "output_type": "execute_result"
    },
    {
     "data": {
      "image/png": "[encoded data removed]",
      "text/plain": [
       "<Figure size 1500x400 with 2 Axes>"
      ]
     },
     "metadata": {},
     "output_type": "display_data"
    }
   ],
   "source": [
    "model_unet.load_weights('saved_models\\\\Unet_250_29.472.h5')\n",
    "unet.model = model_unet\n",
    "preds_image, predictions = unet.predict(selected_pix)\n",
    "\n",
    "fig, axes = plt.subplots(1,2,figsize=(15,4))\n",
    "axes[0].imshow(preds_image[0][0,:,:,0], cmap='gray')\n",
    "axes[1].imshow(preds_image[1][0,:,:,0], cmap='gray')"
   ]
  },
  {
   "cell_type": "code",
   "execution_count": 17,
   "metadata": {},
   "outputs": [],
   "source": [
    "df_2018['2018'] = [int(x) for x in predictions['2018']]\n",
    "df_2019['2019'] = [int(x) for x in predictions['2019']]"
   ]
  },
  {
   "cell_type": "code",
   "execution_count": 18,
   "metadata": {},
   "outputs": [
    {
     "name": "stdout",
     "output_type": "stream",
     "text": [
      "306448 245158.40000000002 126.73614557485526\n",
      "364664 291731.2 150.81224152191893\n"
     ]
    }
   ],
   "source": [
    "print(df_2018['2018'].sum(), df_2018['2018'].sum()*0.8, df_2018['2018'].mean())\n",
    "print(df_2019['2019'].sum(), df_2019['2019'].sum()*0.8, df_2019['2019'].mean())"
   ]
  },
  {
   "cell_type": "code",
   "execution_count": 19,
   "metadata": {},
   "outputs": [
    {
     "data": {
      "text/html": [
       "<div>\n",
       "<style scoped>\n",
       "    .dataframe tbody tr th:only-of-type {\n",
       "        vertical-align: middle;\n",
       "    }\n",
       "\n",
       "    .dataframe tbody tr th {\n",
       "        vertical-align: top;\n",
       "    }\n",
       "\n",
       "    .dataframe thead th {\n",
       "        text-align: right;\n",
       "    }\n",
       "</style>\n",
       "<table border=\"1\" class=\"dataframe\">\n",
       "  <thead>\n",
       "    <tr style=\"text-align: right;\">\n",
       "      <th></th>\n",
       "      <th>Index</th>\n",
       "      <th>Latitude</th>\n",
       "      <th>Longitude</th>\n",
       "      <th>2018</th>\n",
       "      <th>2019</th>\n",
       "    </tr>\n",
       "  </thead>\n",
       "  <tbody>\n",
       "    <tr>\n",
       "      <th>0</th>\n",
       "      <td>0</td>\n",
       "      <td>24.66818</td>\n",
       "      <td>71.33144</td>\n",
       "      <td>6</td>\n",
       "      <td>7</td>\n",
       "    </tr>\n",
       "    <tr>\n",
       "      <th>1</th>\n",
       "      <td>1</td>\n",
       "      <td>24.66818</td>\n",
       "      <td>71.41106</td>\n",
       "      <td>42</td>\n",
       "      <td>44</td>\n",
       "    </tr>\n",
       "    <tr>\n",
       "      <th>2</th>\n",
       "      <td>2</td>\n",
       "      <td>24.66818</td>\n",
       "      <td>71.49069</td>\n",
       "      <td>75</td>\n",
       "      <td>78</td>\n",
       "    </tr>\n",
       "    <tr>\n",
       "      <th>3</th>\n",
       "      <td>3</td>\n",
       "      <td>24.66818</td>\n",
       "      <td>71.57031</td>\n",
       "      <td>93</td>\n",
       "      <td>92</td>\n",
       "    </tr>\n",
       "    <tr>\n",
       "      <th>4</th>\n",
       "      <td>4</td>\n",
       "      <td>24.66818</td>\n",
       "      <td>71.64994</td>\n",
       "      <td>27</td>\n",
       "      <td>28</td>\n",
       "    </tr>\n",
       "  </tbody>\n",
       "</table>\n",
       "</div>"
      ],
      "text/plain": [
       "   Index  Latitude  Longitude  2018  2019\n",
       "0      0  24.66818   71.33144     6     7\n",
       "1      1  24.66818   71.41106    42    44\n",
       "2      2  24.66818   71.49069    75    78\n",
       "3      3  24.66818   71.57031    93    92\n",
       "4      4  24.66818   71.64994    27    28"
      ]
     },
     "execution_count": 19,
     "metadata": {},
     "output_type": "execute_result"
    }
   ],
   "source": [
    "dfpred_2018 = df_2018[['Index','Latitude','Longitude','2018']]\n",
    "dfpred_2019 = df_2019[['Index','Latitude','Longitude','2019']]\n",
    "dfcluster = dfpred_2018.merge(dfpred_2019, on =['Index','Latitude','Longitude'])\n",
    "\n",
    "dfcluster.head(5)"
   ]
  },
  {
   "cell_type": "code",
   "execution_count": null,
   "metadata": {},
   "outputs": [],
   "source": [
    "dfcluster.to_csv('./dataset/dfcluster_Unet_29.csv',index=False)"
   ]
  },
  {
   "cell_type": "code",
   "execution_count": null,
   "metadata": {},
   "outputs": [],
   "source": []
  }
 ],
 "metadata": {
  "kernelspec": {
   "display_name": "PytorchCuda",
   "language": "python",
   "name": "python3"
  },
  "language_info": {
   "codemirror_mode": {
    "name": "ipython",
    "version": 3
   },
   "file_extension": ".py",
   "mimetype": "text/x-python",
   "name": "python",
   "nbconvert_exporter": "python",
   "pygments_lexer": "ipython3",
   "version": "3.11.3"
  }
 },
 "nbformat": 4,
 "nbformat_minor": 2
}
