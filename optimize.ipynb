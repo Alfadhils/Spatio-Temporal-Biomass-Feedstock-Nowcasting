{
 "cells": [
  {
   "cell_type": "code",
   "execution_count": 14,
   "metadata": {},
   "outputs": [],
   "source": [
    "import pandas as pd\n",
    "import numpy as np\n",
    "import matplotlib.pyplot as plt\n",
    "import seaborn as sns\n",
    "from pulp import *\n",
    "from ortools.linear_solver import pywraplp\n",
    "\n",
    "from tqdm import tqdm"
   ]
  },
  {
   "cell_type": "code",
   "execution_count": 2,
   "metadata": {},
   "outputs": [],
   "source": [
    "# Read datasets\n",
    "df_bio = pd.read_csv('dataset\\Biomass_History.csv')\n",
    "df_dist = pd.read_csv('dataset\\Distance_Matrix.csv')\n",
    "submission = pd.read_csv('dataset\\sample_submission.csv')\n",
    "df_ext = pd.read_excel('dataset\\External_Data.xlsx')\n",
    "df_real = pd.read_csv('dataset\\Biomass_Private.csv')"
   ]
  },
  {
   "cell_type": "code",
   "execution_count": 3,
   "metadata": {},
   "outputs": [],
   "source": [
    "dfcluster = pd.read_csv('./dataset/dfcluster_Unet_29.csv')"
   ]
  },
  {
   "cell_type": "markdown",
   "metadata": {},
   "source": [
    "# Phase 1"
   ]
  },
  {
   "cell_type": "code",
   "execution_count": 4,
   "metadata": {},
   "outputs": [],
   "source": [
    "def calc_loss(loss) :\n",
    "    C = loss['transport'][-1]\n",
    "    U = loss['underutil'][-1]\n",
    "    print(f'Transport Loss : {C}')\n",
    "    print(f'Underutil Loss : {U}')\n",
    "    print(f'Overall Loss : {C+U}')\n",
    "    return C, U, (C*0.001)+U\n",
    "\n",
    "def plot_loss(loss, ax=None):\n",
    "    sns.lineplot(np.array(loss['transport']) * 0.001, label='Transport Loss (scaled)', ax=ax)\n",
    "    sns.lineplot(np.array(loss['underutil']), label='Underutilization Loss', ax=ax)\n",
    "    sns.lineplot(np.array(loss['underutil']) + np.array(loss['transport']) * 0.001, label='Total Loss', ax=ax)\n",
    "\n",
    "    ax.set_xlabel('Iteration')\n",
    "    ax.set_ylabel('Costs')\n",
    "    ax.set_title('Greedy Method')\n",
    "    ax.legend()\n",
    "\n",
    "def plot_map (dfcluster, used, group_dict) :\n",
    "    # Plot used sites and depots\n",
    "    fig, axes = plt.subplots(ncols=2, figsize=(14,5))\n",
    "    sns.scatterplot(data=dfcluster[~dfcluster['Index'].isin(used)],x='Longitude',y='Latitude',hue='2018', palette='coolwarm', hue_norm=(0,1000), s=20, linewidth=0, ax=axes[0])\n",
    "    sns.scatterplot(data=dfcluster[~dfcluster['Index'].isin(used)],x='Longitude',y='Latitude',hue='2019', palette='coolwarm', hue_norm=(0,1000), s=20, linewidth=0, ax=axes[1])\n",
    "    sns.scatterplot(data=dfcluster[dfcluster['Index'].isin(used)], x='Longitude', y='Latitude', color='orange', s=20, linewidth=0, ax=axes[0])\n",
    "    sns.scatterplot(data=dfcluster[dfcluster['Index'].isin(used)], x='Longitude', y='Latitude', color='orange', s=20, linewidth=0, ax=axes[1])\n",
    "    sns.scatterplot(data=dfcluster[dfcluster['Index'].isin(list(group_dict.keys()))], x='Longitude', y='Latitude', color='red', s=20, linewidth=0, ax=axes[0])\n",
    "    sns.scatterplot(data=dfcluster[dfcluster['Index'].isin(list(group_dict.keys()))], x='Longitude', y='Latitude', color='red', s=20, linewidth=0, ax=axes[1])\n",
    "    axes[0].set_title('Config 2018')\n",
    "    axes[1].set_title('Config 2019')\n",
    "    plt.tight_layout()\n",
    "    plt.show()"
   ]
  },
  {
   "cell_type": "code",
   "execution_count": 5,
   "metadata": {},
   "outputs": [],
   "source": [
    "def assign_greedy(maxval_index, dfcluster, avail, used, cap):\n",
    "    group_assign = []\n",
    "    transport_loss = 0\n",
    "    group_assign.append(maxval_index)\n",
    "    distances = df_dist[str(maxval_index)].copy()/((avail['2018']+avail['2019'])/2)\n",
    "    \n",
    "    while True :\n",
    "        distances.loc[used+group_assign] = np.nan\n",
    "        closest = np.nanargmin(distances.tolist())\n",
    "        dist = df_dist[str(closest)][maxval_index]\n",
    "\n",
    "        current_biomass = (dfcluster[dfcluster['Index'].isin(group_assign)]['2018'].sum(), dfcluster[dfcluster['Index'].isin(group_assign)]['2019'].sum())\n",
    "        add_biomass = (dfcluster[dfcluster['Index']==closest]['2018'].values[0], dfcluster[dfcluster['Index']==closest]['2019'].values[0])\n",
    "        if (current_biomass[0] + add_biomass[0] > cap) or (current_biomass[1] + add_biomass[1] > cap) :\n",
    "            break\n",
    "\n",
    "        group_assign.append(closest)\n",
    "        transport_loss += dist*add_biomass[0] + dist*add_biomass[1]\n",
    "\n",
    "    underutil_loss = (2*cap - current_biomass[0] - current_biomass[1])\n",
    "\n",
    "    return group_assign, transport_loss, underutil_loss\n",
    "\n",
    "def assign_year(year, maxval_index, used, avail, cap=20000):\n",
    "    group_assign = [1 if x == maxval_index else 0 for x in range(2418)]\n",
    "    transport_loss, underutil_loss = 0, 0\n",
    "    while True :\n",
    "        distances = df_dist[str(maxval_index)].copy()\n",
    "        distances = np.where(np.logical_or(used[year],group_assign), np.nan, distances)\n",
    "        closest = np.nanargmin(distances.tolist())\n",
    "        dist = df_dist[str(closest)][maxval_index]\n",
    "\n",
    "        current_biomass = (dfcluster[year]*pd.Series(group_assign, dtype=bool)).sum()\n",
    "        add_biomass = dfcluster[dfcluster['Index']==closest][year].values[0]\n",
    "\n",
    "        if current_biomass + add_biomass > cap :\n",
    "            # ratio = (cap - current_biomass)/add_biomass\n",
    "            # group_assign[closest] = ratio\n",
    "            # transport_loss += dist*add_biomass*ratio\n",
    "            break\n",
    "\n",
    "        group_assign[closest] = 1\n",
    "\n",
    "        transport_loss += dist*add_biomass\n",
    "\n",
    "    underutil_loss = cap - (dfcluster[year]*group_assign).sum()\n",
    "\n",
    "    return group_assign, transport_loss, underutil_loss\n",
    "\n",
    "def stage1(dfcluster, cap) :\n",
    "    losses = {'transport':[],'underutil':[]}\n",
    "    C_current, U_current = 0,0\n",
    "    group_dict = {}\n",
    "    used = []\n",
    "    annual_collected = (0,0)\n",
    "    annual_threshold = (dfcluster['2018'].sum()*0.8, dfcluster['2019'].sum()*0.8)\n",
    "\n",
    "    # while (annual_collected[0]<annual_threshold[0]) or (annual_collected[1]<annual_threshold[1]) :\n",
    "    for i in range(15) :\n",
    "        avail = dfcluster[~dfcluster['Index'].isin(used)]\n",
    "        maxval_index = ((avail['2018']+avail['2019'])/2).idxmax()\n",
    "\n",
    "        group_assign, C, U = assign_greedy(maxval_index=maxval_index, dfcluster=dfcluster, avail=avail, used=used, cap=cap)\n",
    "\n",
    "        used += group_assign\n",
    "        group_dict[maxval_index] =  group_assign\n",
    "\n",
    "        C_current += C\n",
    "        U_current += U\n",
    "\n",
    "        losses['transport'].append(C_current)\n",
    "        losses['underutil'].append(U_current)\n",
    "\n",
    "        annual_collected = (dfcluster[dfcluster['Index'].isin(used)]['2018'].sum(), dfcluster[dfcluster['Index'].isin(used)]['2019'].sum())\n",
    "        print(f'Total biomass : {annual_collected}')\n",
    "    \n",
    "    return used, group_dict, losses\n",
    "\n",
    "def stage1_v2(dfcluster, cap):\n",
    "    cap = 20000\n",
    "\n",
    "    losses = {'transport':[],'underutil':[]}\n",
    "    C_current, U_current = 0,0\n",
    "    group_dict = {}\n",
    "    used = {'2018':[0 for x in range(2418)], '2019':[0 for x in range(2418)]}\n",
    "    annual_collected = {'2018':0, '2019':0}\n",
    "    annual_threshold = {'2018':dfcluster['2018'].sum()*0.8, '2019':dfcluster['2019'].sum()*0.8}\n",
    "\n",
    "    # while (annual_collected['2018']<annual_threshold['2018']) or (annual_collected['2019']<annual_threshold['2019']) :\n",
    "    for i in range(15) :\n",
    "        avail = (dfcluster['2018']+dfcluster['2019'])*(~pd.Series(used['2018'], dtype=bool))*(~pd.Series(used['2019'], dtype=bool))\n",
    "        maxval_index = avail.idxmax()\n",
    "        group_dict[maxval_index] = {}\n",
    "        collected = {}\n",
    "\n",
    "        for year in ['2018','2019'] :\n",
    "            assign, t, u = assign_year(year=year, maxval_index=maxval_index, used=used, avail=avail, cap=cap)\n",
    "            group_dict[maxval_index][year] = assign\n",
    "            used[year] = [a | b for a, b in zip(used[year], [1 if value > 0 else 0 for value in assign])]\n",
    "            C_current += t\n",
    "            U_current += u\n",
    "            collected[year] = (cap-u)\n",
    "\n",
    "        losses['transport'].append(C_current)\n",
    "        losses['underutil'].append(U_current)\n",
    "\n",
    "        annual_collected['2018'] += collected['2018']\n",
    "        annual_collected['2019'] += collected['2019']\n",
    "        print(f'Total biomass : {annual_collected}')\n",
    "        \n",
    "    return used, group_dict, losses"
   ]
  },
  {
   "cell_type": "code",
   "execution_count": 6,
   "metadata": {},
   "outputs": [
    {
     "name": "stdout",
     "output_type": "stream",
     "text": [
      "Total biomass : (18269, 19994)\n",
      "Total biomass : (25316, 39824)\n",
      "Total biomass : (45126, 59731)\n",
      "Total biomass : (63629, 79469)\n",
      "Total biomass : (81575, 99246)\n",
      "Total biomass : (92373, 119038)\n",
      "Total biomass : (111788, 138999)\n",
      "Total biomass : (125332, 158945)\n",
      "Total biomass : (142414, 178811)\n",
      "Total biomass : (152811, 198770)\n",
      "Total biomass : (171494, 218678)\n",
      "Total biomass : (191377, 238595)\n",
      "Total biomass : (209816, 258510)\n",
      "Total biomass : (227142, 278309)\n",
      "Total biomass : (247069, 297940)\n",
      "Transport Loss : 31807105.078300003\n",
      "Underutil Loss : 54991\n",
      "Overall Loss : 31862096.078300003\n"
     ]
    },
    {
     "data": {
      "text/plain": [
       "(31807105.078300003, 54991, 86798.1050783)"
      ]
     },
     "execution_count": 6,
     "metadata": {},
     "output_type": "execute_result"
    }
   ],
   "source": [
    "used_greed, group_dict_greed, loss_greed = stage1(dfcluster, cap=20000)\n",
    "calc_loss(loss_greed)"
   ]
  },
  {
   "cell_type": "code",
   "execution_count": 7,
   "metadata": {},
   "outputs": [
    {
     "name": "stdout",
     "output_type": "stream",
     "text": [
      "Total biomass : {'2018': 19648, '2019': 19817}\n",
      "Total biomass : {'2018': 39431, '2019': 39729}\n",
      "Total biomass : {'2018': 59281, '2019': 59610}\n",
      "Total biomass : {'2018': 79121, '2019': 79607}\n",
      "Total biomass : {'2018': 98834, '2019': 99244}\n",
      "Total biomass : {'2018': 118774, '2019': 118869}\n",
      "Total biomass : {'2018': 138710, '2019': 138803}\n",
      "Total biomass : {'2018': 158628, '2019': 158794}\n",
      "Total biomass : {'2018': 178428, '2019': 178624}\n",
      "Total biomass : {'2018': 198428, '2019': 198459}\n",
      "Total biomass : {'2018': 218414, '2019': 218260}\n",
      "Total biomass : {'2018': 238399, '2019': 238229}\n",
      "Total biomass : {'2018': 258357, '2019': 258191}\n",
      "Total biomass : {'2018': 278345, '2019': 278181}\n",
      "Total biomass : {'2018': 298315, '2019': 298127}\n",
      "Transport Loss : 37807596.8933\n",
      "Underutil Loss : 3558\n",
      "Overall Loss : 37811154.8933\n"
     ]
    },
    {
     "data": {
      "text/plain": [
       "(37807596.8933, 3558, 41365.5968933)"
      ]
     },
     "execution_count": 7,
     "metadata": {},
     "output_type": "execute_result"
    }
   ],
   "source": [
    "used_greed_v2, group_dict_greed_v2, loss_greed_v2 = stage1_v2(dfcluster, cap=20000)\n",
    "calc_loss(loss_greed_v2)"
   ]
  },
  {
   "cell_type": "markdown",
   "metadata": {},
   "source": [
    "no u : 41886.829  \n",
    "with u : 45261.613    \n",
    "no u closest : 38291.827  \n",
    "with u closest : 36621.808"
   ]
  },
  {
   "cell_type": "code",
   "execution_count": 8,
   "metadata": {},
   "outputs": [
    {
     "data": {
      "image/png": "[encoded data removed]",
      "text/plain": [
       "<Figure size 1200x400 with 2 Axes>"
      ]
     },
     "metadata": {},
     "output_type": "display_data"
    }
   ],
   "source": [
    "fig, axes = plt.subplots(nrows=1, ncols=2, figsize=(12, 4))\n",
    "plot_loss(loss_greed, ax=axes[0])\n",
    "plot_loss(loss_greed_v2, ax=axes[1])\n",
    "plt.tight_layout()\n",
    "plt.show()"
   ]
  },
  {
   "cell_type": "code",
   "execution_count": 10,
   "metadata": {},
   "outputs": [
    {
     "name": "stdout",
     "output_type": "stream",
     "text": [
      "{'2018': 298315, '2019': 298127}\n",
      "37807.5968933 3558\n"
     ]
    }
   ],
   "source": [
    "biomass_collected = {'2018':0, '2019':0}\n",
    "for key, val in group_dict_greed_v2.items():\n",
    "    for year, assign in val.items():\n",
    "        biomass_collected[year] += (dfcluster[year]*assign).sum()\n",
    "\n",
    "print(biomass_collected)\n",
    "print(loss_greed_v2['transport'][-1]*0.001, loss_greed_v2['underutil'][-1])"
   ]
  },
  {
   "cell_type": "code",
   "execution_count": null,
   "metadata": {},
   "outputs": [],
   "source": [
    "fig, axes = plt.subplots(ncols=2, figsize=(14,5))\n",
    "df_plot = pd.concat([dfcluster, pd.Series(used_greed_v2['2018'],name='used_2018'), pd.Series(used_greed_v2['2019'],name='used_2019')],axis=1)\n",
    "\n",
    "sns.scatterplot(data=df_plot[df_plot['used_2018']==0],x='Longitude',y='Latitude', hue='2018', palette='coolwarm', hue_norm=(0,1000), s=20, linewidth=0, ax=axes[0])\n",
    "sns.scatterplot(data=df_plot[df_plot['used_2019']==0],x='Longitude',y='Latitude', hue='2019', palette='coolwarm', hue_norm=(0,1000), s=20, linewidth=0, ax=axes[1])\n",
    "sns.scatterplot(data=df_plot[df_plot['used_2018']==1], x='Longitude', y='Latitude', color='orange', s=20, linewidth=0, ax=axes[0])\n",
    "sns.scatterplot(data=df_plot[df_plot['used_2019']==1], x='Longitude', y='Latitude', color='orange', s=20, linewidth=0, ax=axes[1])\n",
    "sns.scatterplot(data=df_plot[df_plot['Index'].isin(list(group_dict_greed_v2.keys()))], x='Longitude', y='Latitude', color='red', s=20, linewidth=0, ax=axes[0])\n",
    "sns.scatterplot(data=df_plot[df_plot['Index'].isin(list(group_dict_greed_v2.keys()))], x='Longitude', y='Latitude', color='red', s=20, linewidth=0, ax=axes[1])\n",
    "axes[0].set_title('Config 2018')\n",
    "axes[1].set_title('Config 2019')\n",
    "plt.tight_layout()\n",
    "plt.show()"
   ]
  },
  {
   "cell_type": "code",
   "execution_count": null,
   "metadata": {},
   "outputs": [],
   "source": [
    "used_2018 = []\n",
    "group_dict_2018 = {}\n",
    "costs_2018 = []\n",
    "for iter_index in tqdm(range(15), desc='Optimize'):\n",
    "    avail = dfcluster[~dfcluster['Index'].isin(used_2018)]\n",
    "    max_iter = 5\n",
    "    maxval_index = avail['2018'].nlargest(max_iter).index.tolist()\n",
    "    Sites = avail['Index'].tolist()\n",
    "    Depots = maxval_index\n",
    "    Biomass = avail.copy()['2018']\n",
    "    cap = 20000\n",
    "\n",
    "    solver = pywraplp.Solver.CreateSolver('SCIP')\n",
    "    if not solver:\n",
    "        raise Exception(\"Solver initialization failed\")\n",
    "\n",
    "    use_depot = {}\n",
    "    assign_depot = {}\n",
    "\n",
    "    for j in Depots:\n",
    "        use_depot[j] = solver.BoolVar(f\"Use Depot {j}\")\n",
    "\n",
    "    for i in Sites:\n",
    "        for j in Depots:\n",
    "            assign_depot[(i, j)] = solver.BoolVar(f\"Assign Depot {i},{j}\")\n",
    "\n",
    "    trans_cost = solver.Sum(\n",
    "        df_dist[str(j)][int(i)] * Biomass[i] * assign_depot[i, j]\n",
    "        for i in Sites for j in Depots\n",
    "    )\n",
    "\n",
    "    under_cost = solver.Sum(\n",
    "        cap * use_depot[j] - solver.Sum(\n",
    "            Biomass[i] * assign_depot[i, j] for i in Sites\n",
    "        ) for j in Depots\n",
    "    )\n",
    "\n",
    "    # Combine transportation cost and fixed cost for the total cost\n",
    "    total_cost = trans_cost*0.001 + under_cost\n",
    "    solver.Minimize(total_cost)\n",
    "\n",
    "    solver.Add(solver.Sum(use_depot[j] for j in Depots) == 1)\n",
    "\n",
    "    for i in Sites:\n",
    "        for j in Depots:\n",
    "            solver.Add(assign_depot[i, j] <= use_depot[j])\n",
    "\n",
    "    for j in Depots:\n",
    "        solver.Add(solver.Sum(Biomass[i] * assign_depot[i, j] for i in Sites) - cap * use_depot[j] <= 0)\n",
    "        # solver.Add(solver.Sum(Biomass[i] * assign_depot[i, j] for i in Sites) - 0.9 * cap * use_depot[j] >= 0)\n",
    "\n",
    "    for i in Sites:\n",
    "        solver.Add(solver.Sum(assign_depot[i, j] for j in Depots) <= 1)\n",
    "\n",
    "    status = solver.Solve()\n",
    "\n",
    "    losses = (total_cost.solution_value(), trans_cost.solution_value(), under_cost.solution_value())\n",
    "    costs_2018.append(losses)\n",
    "\n",
    "    variable_values = {\n",
    "        var.name(): var.solution_value() for var in [use_depot[j] for j in Depots] +\n",
    "        [assign_depot[i, j] for i in Sites for j in Depots]\n",
    "    }\n",
    "\n",
    "    group_assign_dict = {}\n",
    "    centers = []\n",
    "    for var_name, var_value in variable_values.items():\n",
    "        if var_value > 0 :\n",
    "            line = var_name\n",
    "            if line.startswith('Assign Depot'):\n",
    "                key = int(line.split(',')[1])\n",
    "                value = int(line.split(',')[0].split(' ')[2])\n",
    "                if key in group_assign_dict:\n",
    "                    group_assign_dict[key].append(value)\n",
    "                else:\n",
    "                    group_assign_dict[key] = [value]\n",
    "            else :\n",
    "                centers.append(int(line.split(' ')[2]))\n",
    "\n",
    "    for value_list in group_assign_dict.values():\n",
    "        used_2018.extend(value_list)\n",
    "\n",
    "    group_dict_2018.update(group_assign_dict)\n",
    "    print(centers, losses)"
   ]
  },
  {
   "cell_type": "code",
   "execution_count": null,
   "metadata": {},
   "outputs": [],
   "source": [
    "median_index = 1218\n",
    "median_dist = df_dist[str(median_index)]\n",
    "\n",
    "depot_list = list(group_dict_2018.keys())\n",
    "depot_list_sorted = median_dist[median_dist.index.isin(depot_list)].sort_values(ascending=False).index.tolist()"
   ]
  },
  {
   "cell_type": "code",
   "execution_count": null,
   "metadata": {},
   "outputs": [],
   "source": [
    "used_2019 = [] \n",
    "group_dict_2019 = {}\n",
    "costs_2019 = []\n",
    "for iter_index in tqdm(range(3), desc='opt_2019') :\n",
    "    print(f'Iter no: {iter_index+1}')\n",
    "    Depots = depot_list_sorted[5*iter_index:5*(iter_index+1)]\n",
    "    Sites = dfcluster[~dfcluster['Index'].isin(used_2019 + depot_list_sorted[5*(iter_index+1):])]['Index'].tolist()\n",
    "    Biomass = dfcluster.copy()['2019']\n",
    "    cap = 20000\n",
    "\n",
    "    solver = pywraplp.Solver.CreateSolver('SCIP')\n",
    "    if not solver:\n",
    "        raise Exception(\"Solver initialization failed\")\n",
    "\n",
    "    assign_depot = {}\n",
    "\n",
    "    for i in Sites:\n",
    "        for j in Depots:\n",
    "            assign_depot[(i, j)] = solver.BoolVar(f\"Assign Depot {i},{j}\")\n",
    "\n",
    "    trans_cost = solver.Sum(\n",
    "        df_dist[str(j)][int(i)] * Biomass[i] * assign_depot[i, j]\n",
    "        for i in Sites for j in Depots\n",
    "    )\n",
    "\n",
    "    under_cost = solver.Sum(\n",
    "        cap - solver.Sum(\n",
    "            Biomass[i] * assign_depot[i, j] for i in Sites\n",
    "        ) for j in Depots\n",
    "    )\n",
    "\n",
    "    # Combine transportation cost and fixed cost for the total cost\n",
    "    total_cost = trans_cost*0.001 + under_cost\n",
    "    solver.Minimize(total_cost)\n",
    "\n",
    "    for j in Depots:\n",
    "        solver.Add(solver.Sum(Biomass[i] * assign_depot[i, j] for i in Sites) - cap <= 0)\n",
    "        solver.Add(assign_depot[j, j] == 1)\n",
    "\n",
    "    for i in Sites:\n",
    "        solver.Add(solver.Sum(assign_depot[i, j] for j in Depots) <= 1)\n",
    "\n",
    "    status = solver.Solve()\n",
    "    print(total_cost.solution_value())\n",
    "\n",
    "    losses = (total_cost.solution_value(), trans_cost.solution_value(), under_cost.solution_value())\n",
    "    costs_2019.append(losses)\n",
    "\n",
    "    variable_values = {\n",
    "        var.name(): var.solution_value() for var in \n",
    "        [assign_depot[i, j] for i in Sites for j in Depots]\n",
    "    }\n",
    "\n",
    "    group_assign_dict = {}\n",
    "    centers = []\n",
    "    for var_name, var_value in variable_values.items():\n",
    "        if var_value > 0 :\n",
    "            line = var_name\n",
    "            if line.startswith('Assign Depot'):\n",
    "                key = int(line.split(',')[1])\n",
    "                value = int(line.split(',')[0].split(' ')[2])\n",
    "                if key in group_assign_dict:\n",
    "                    group_assign_dict[key].append(value)\n",
    "                else:\n",
    "                    group_assign_dict[key] = [value]\n",
    "            else :\n",
    "                centers.append(int(line.split(' ')[2]))\n",
    "\n",
    "    for value_list in group_assign_dict.values():\n",
    "        used_2019.extend(value_list)\n",
    "\n",
    "    group_dict_2019.update(group_assign_dict)"
   ]
  },
  {
   "cell_type": "code",
   "execution_count": null,
   "metadata": {},
   "outputs": [],
   "source": [
    "fig, axes = plt.subplots(ncols=2, figsize=(14,5))\n",
    "sns.scatterplot(data=dfcluster[~dfcluster['Index'].isin(used_2018)],x='Longitude',y='Latitude',hue='2018', palette='coolwarm', hue_norm=(0,1000), s=20, linewidth=0, ax=axes[0])\n",
    "sns.scatterplot(data=dfcluster[~dfcluster['Index'].isin(used_2019)],x='Longitude',y='Latitude',hue='2019', palette='coolwarm', hue_norm=(0,1000), s=20, linewidth=0, ax=axes[1])\n",
    "sns.scatterplot(data=dfcluster[dfcluster['Index'].isin(used_2018)], x='Longitude', y='Latitude', color='orange', s=20, linewidth=0, ax=axes[0])\n",
    "sns.scatterplot(data=dfcluster[dfcluster['Index'].isin(used_2019)], x='Longitude', y='Latitude', color='orange', s=20, linewidth=0, ax=axes[1])\n",
    "sns.scatterplot(data=dfcluster[dfcluster['Index'].isin(list(group_dict_2018.keys()))], x='Longitude', y='Latitude', color='red', s=20, linewidth=0, ax=axes[0])\n",
    "sns.scatterplot(data=dfcluster[dfcluster['Index'].isin(list(group_dict_2019.keys()))], x='Longitude', y='Latitude', color='red', s=20, linewidth=0, ax=axes[1])\n",
    "axes[0].set_title('Config 2018')\n",
    "axes[1].set_title('Config 2019')\n",
    "plt.tight_layout()\n",
    "plt.show()"
   ]
  },
  {
   "cell_type": "code",
   "execution_count": null,
   "metadata": {},
   "outputs": [],
   "source": [
    "total_cost = 0\n",
    "transport_cost = 0\n",
    "underutil_cost = 0\n",
    "for costs_ in [costs_2018, costs_2019] :\n",
    "    for cost in costs_:\n",
    "        total_cost += cost[0]\n",
    "        transport_cost += cost[1]\n",
    "        underutil_cost += cost[2]\n",
    "\n",
    "print(f'Total cost : {total_cost}')\n",
    "print(f'Total transport : {transport_cost*0.001}')\n",
    "print(f'Total underutil : {underutil_cost}')"
   ]
  },
  {
   "cell_type": "markdown",
   "metadata": {},
   "source": [
    "1 to 15, in to out : 33783  \n",
    "1 to 15, out to in : 33896"
   ]
  },
  {
   "cell_type": "code",
   "execution_count": null,
   "metadata": {},
   "outputs": [],
   "source": [
    "biomass_dict = {'2018':{}, '2019':{}}\n",
    "for keys in group_dict_greed_v2.keys():\n",
    "    for year in ['2018','2019']:\n",
    "        biomass_collected = np.sum(dfcluster[year]*group_dict_greed_v2[keys][year])\n",
    "        biomass_dict[year][keys] = (biomass_collected)\n",
    "\n",
    "biomass_dict_2018 = biomass_dict['2018']\n",
    "biomass_dict_2019 = biomass_dict['2019']"
   ]
  },
  {
   "cell_type": "code",
   "execution_count": 11,
   "metadata": {},
   "outputs": [],
   "source": [
    "biomass_dict_2018 = {}\n",
    "for keys in group_dict_greed.keys() :\n",
    "    biomass_collected = 0\n",
    "    for site in group_dict_greed[keys]:\n",
    "        biomass_collected += dfcluster.loc[dfcluster['Index']==site]['2018'].values[0]\n",
    "    biomass_dict_2018[keys] = biomass_collected\n",
    "    \n",
    "biomass_dict_2019 = {}\n",
    "for keys in group_dict_greed.keys() :\n",
    "    biomass_collected = 0\n",
    "    for site in group_dict_greed[keys]:\n",
    "        biomass_collected += dfcluster.loc[dfcluster['Index']==site]['2019'].values[0]\n",
    "    biomass_dict_2019[keys] = biomass_collected"
   ]
  },
  {
   "cell_type": "code",
   "execution_count": 12,
   "metadata": {},
   "outputs": [],
   "source": [
    "dfdepot = pd.DataFrame(biomass_dict_2018.items(), columns=['depot_index','2018'])\n",
    "dfdepot['2019'] = biomass_dict_2019.values()"
   ]
  },
  {
   "cell_type": "code",
   "execution_count": 15,
   "metadata": {},
   "outputs": [
    {
     "name": "stdout",
     "output_type": "stream",
     "text": [
      "Solution status: Optimal\n",
      "Total costs: 104934.10549270014\n"
     ]
    }
   ],
   "source": [
    "Depot = dfdepot['depot_index'].tolist()\n",
    "Refinery = dfcluster['Index'].tolist()\n",
    "Years = ['2018','2019']\n",
    "Pellets = dfdepot.set_index('depot_index').to_dict()\n",
    "Cap = 100000\n",
    "\n",
    "solver = pywraplp.Solver.CreateSolver('SCIP')\n",
    "if not solver:\n",
    "    raise Exception(\"Solver initialization failed\")\n",
    "\n",
    "# Create use_refinery variables\n",
    "use_refinery = {}\n",
    "for k in Refinery:\n",
    "    use_refinery[k] = solver.BoolVar(f\"Use Refinery {k}\")\n",
    "\n",
    "# Create assign_refinery variables\n",
    "assign_refinery = {}\n",
    "for j in Depot:\n",
    "    for k in Refinery:\n",
    "        for y in Years:\n",
    "            assign_refinery[(j, k, y)] = solver.BoolVar(f\"Assign Refinery ({j}, {k}, {y})\")\n",
    "\n",
    "# Define transport cost\n",
    "trans_cost = sum(sum(df_dist[str(k)][int(j)] * (Pellets[y][j]) * assign_refinery[(j, k, y)] for j in Depot for k in Refinery) for y in Years)\n",
    "\n",
    "# Define underutilization cost\n",
    "under_cost = sum(sum(Cap*use_refinery[k]-sum((Pellets[y][j])*assign_refinery[j,k,y] for j in Depot) for k in Refinery) for y in Years)\n",
    "\n",
    "objective = trans_cost * 0.001 + under_cost\n",
    "solver.Minimize(objective)\n",
    "\n",
    "for y in Years :\n",
    "    for k in Refinery :\n",
    "        assignment_sum = sum(assign_refinery[j,k,y] for y in Years)\n",
    "        solver.Add(assignment_sum == len(Years) * assign_refinery[(j, k, Years[0])])\n",
    "        solver.Add(sum(Pellets[y][j]*assign_refinery[j,k,y] for j in Depot) - Cap*use_refinery[k] <= 0)\n",
    "\n",
    "for y in Years :\n",
    "    for j in Depot :\n",
    "        solver.Add(sum(assign_refinery[j,k,y] for k in Refinery) == 1)\n",
    "\n",
    "for y in Years :\n",
    "    for j in Depot :\n",
    "        for k in Refinery :\n",
    "            solver.Add(assign_refinery[j,k,y] <= use_refinery[k])\n",
    "\n",
    "solver.Add(sum(use_refinery.values()) >= 3)\n",
    "solver.Add(sum(use_refinery.values()) <= 5)\n",
    "\n",
    "status = solver.Solve()\n",
    "\n",
    "if status == pywraplp.Solver.OPTIMAL:\n",
    "    print(\"Solution status: Optimal\")\n",
    "else:\n",
    "    print(\"Solution status: Not optimal\")\n",
    "\n",
    "print(\"Total costs:\", solver.Objective().Value())\n",
    "\n",
    "assign ={}\n",
    "use = []\n",
    "for k in Refinery:\n",
    "    if (use_refinery[k].solution_value()>0):\n",
    "        use.append(k)\n",
    "        \n",
    "    for j in Depot:\n",
    "        if (assign_refinery[(j, k, '2018')].solution_value()>0):\n",
    "            if k in assign:\n",
    "                assign[k].append(j)\n",
    "            else :\n",
    "                assign[k] = [j]\n",
    "\n",
    "# for i in use:\n",
    "#     if i not in used_2018:\n",
    "#         used_2018.append(i)\n",
    "#     if i not in used_2019:\n",
    "#         used_2019.append(i)"
   ]
  },
  {
   "cell_type": "code",
   "execution_count": 16,
   "metadata": {},
   "outputs": [
    {
     "data": {
      "text/plain": [
       "(49943105.4927, 54991.0)"
      ]
     },
     "execution_count": 16,
     "metadata": {},
     "output_type": "execute_result"
    }
   ],
   "source": [
    "trans_cost.solution_value(), under_cost.solution_value()"
   ]
  },
  {
   "cell_type": "code",
   "execution_count": 17,
   "metadata": {},
   "outputs": [
    {
     "name": "stdout",
     "output_type": "stream",
     "text": [
      "Transport Loss : 31807105.078300003\n",
      "Underutil Loss : 54991\n",
      "Overall Loss : 31862096.078300003\n"
     ]
    }
   ],
   "source": [
    "transport_cost, underutil_cost, _ = calc_loss(loss_greed)"
   ]
  },
  {
   "cell_type": "markdown",
   "metadata": {},
   "source": [
    "Enet : 31.96  \n",
    "Unet : 29.47  \n",
    "ConvLSTM : 25.37"
   ]
  },
  {
   "cell_type": "code",
   "execution_count": 18,
   "metadata": {},
   "outputs": [
    {
     "data": {
      "text/plain": [
       "46.52013910864"
      ]
     },
     "execution_count": 18,
     "metadata": {},
     "output_type": "execute_result"
    }
   ],
   "source": [
    "# Calculate the total costs\n",
    "total_transport = transport_cost + trans_cost.solution_value()\n",
    "total_under = underutil_cost + under_cost.solution_value()\n",
    "total_forecast = 29.47*2*2418\n",
    "total_cost = 0.001*total_transport + total_under + total_forecast\n",
    "\n",
    "score = 100 - (80*total_cost)/500000\n",
    "score"
   ]
  },
  {
   "cell_type": "code",
   "execution_count": 19,
   "metadata": {},
   "outputs": [
    {
     "data": {
      "text/plain": [
       "(334249.130571, 81750.21057100002, 109982.0, 142516.91999999998)"
      ]
     },
     "execution_count": 19,
     "metadata": {},
     "output_type": "execute_result"
    }
   ],
   "source": [
    "total_cost, 0.001*total_transport, total_under, total_forecast"
   ]
  },
  {
   "cell_type": "markdown",
   "metadata": {},
   "source": [
    "| No  | Phase 1     | Phase 2 Stage 1 | Phase 2 Stage 2 | C     | F     | U     | OC    |\n",
    "|-----|-------------|-----------------|-----------------|-------|-------|-------|-------|\n",
    "| 1   | Enet        | Greed - 14D     | MILP            | 87469.45 | 154558.56 | 91714 | 333742.01 |\n",
    "| 2   | Unet        | Greed - 15D  | MILP            | 81750.21 | 142516.91 | 109982 | 334249.13 |\n",
    "| 3   | Unet        | Greed V2 - 15D  | MILP            | 91625.08 | 142516.91 | 7116 | 241258.00 |\n",
    "| 4   | ConvLSTM    | Greed V2 - 14D  | MILP            | 83266.86 | 122689.32 | 45506 | 251462.18 |\n",
    "| 5   | ConvLSTM    | Greed V2 - 15D  | MILP            | 92003.13 | 122689.32 | 5894 | 220586.45 |\n",
    "| 6   | ConvLSTM    | MILP - 15D      | MILP            | 89895.16 | 122689.32 | 0 | 212584.48 |\n"
   ]
  },
  {
   "cell_type": "code",
   "execution_count": null,
   "metadata": {},
   "outputs": [],
   "source": [
    "# TODO : Local Search"
   ]
  },
  {
   "cell_type": "code",
   "execution_count": null,
   "metadata": {},
   "outputs": [],
   "source": [
    "# Plot the whole configuration network\n",
    "fig, axes = plt.subplots(ncols=2, figsize=(14,5))\n",
    "sns.scatterplot(data=dfcluster[~dfcluster['Index'].isin(used_2018)],x='Longitude',y='Latitude',hue='2018', palette='coolwarm', hue_norm=(0,1000), s=20, linewidth=0, ax=axes[0])\n",
    "sns.scatterplot(data=dfcluster[~dfcluster['Index'].isin(used_2019)],x='Longitude',y='Latitude',hue='2019', palette='coolwarm', hue_norm=(0,1000), s=20, linewidth=0, ax=axes[1])\n",
    "sns.scatterplot(data=dfcluster[dfcluster['Index'].isin(used_2018)], x='Longitude', y='Latitude', color='orange', s=20, linewidth=0, ax=axes[0])\n",
    "sns.scatterplot(data=dfcluster[dfcluster['Index'].isin(used_2019)], x='Longitude', y='Latitude', color='orange', s=20, linewidth=0, ax=axes[1])\n",
    "sns.scatterplot(data=dfcluster[dfcluster['Index'].isin(list(group_dict_2018.keys()))], x='Longitude', y='Latitude', color='red', s=20, linewidth=0, ax=axes[0])\n",
    "sns.scatterplot(data=dfcluster[dfcluster['Index'].isin(list(group_dict_2019.keys()))], x='Longitude', y='Latitude', color='red', s=20, linewidth=0, ax=axes[1])\n",
    "sns.scatterplot(data=dfcluster[dfcluster['Index'].isin(use)], x='Longitude', y='Latitude', color='black', s=20, linewidth=0, ax=axes[0])\n",
    "sns.scatterplot(data=dfcluster[dfcluster['Index'].isin(use)], x='Longitude', y='Latitude', color='black', s=20, linewidth=0, ax=axes[1])\n",
    "axes[0].set_title('Config 2018')\n",
    "axes[1].set_title('Config 2019')\n",
    "plt.tight_layout()\n",
    "plt.show()"
   ]
  }
 ],
 "metadata": {
  "kernelspec": {
   "display_name": "base",
   "language": "python",
   "name": "python3"
  },
  "language_info": {
   "codemirror_mode": {
    "name": "ipython",
    "version": 3
   },
   "file_extension": ".py",
   "mimetype": "text/x-python",
   "name": "python",
   "nbconvert_exporter": "python",
   "pygments_lexer": "ipython3",
   "version": "3.11.3"
  }
 },
 "nbformat": 4,
 "nbformat_minor": 2
}
